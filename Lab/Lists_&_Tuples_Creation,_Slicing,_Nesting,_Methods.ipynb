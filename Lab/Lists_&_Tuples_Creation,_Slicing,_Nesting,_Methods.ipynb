{
  "nbformat": 4,
  "nbformat_minor": 0,
  "metadata": {
    "colab": {
      "provenance": []
    },
    "kernelspec": {
      "name": "python3",
      "display_name": "Python 3"
    },
    "language_info": {
      "name": "python"
    }
  },
  "cells": [
    {
      "cell_type": "markdown",
      "source": [
        "##Exercise 1: List Creation and Basic Access\n",
        "\n",
        "Task:\n",
        "Create a list of 5 fruits. Print the first fruit, the last fruit, and the total number of fruits."
      ],
      "metadata": {
        "id": "-o_Tk6b6ZJ6E"
      }
    },
    {
      "cell_type": "code",
      "execution_count": null,
      "metadata": {
        "colab": {
          "base_uri": "https://localhost:8080/"
        },
        "id": "f_YyCDT7ZFIP",
        "outputId": "7ebaf997-6534-4533-c8f8-44ebfcb23ba8"
      },
      "outputs": [
        {
          "output_type": "stream",
          "name": "stdout",
          "text": [
            "First fruit: apple\n",
            "Last fruit: orange\n",
            "Total number of fruits: 5\n"
          ]
        }
      ],
      "source": [
        "# Creating a list\n",
        "fruits = [\"apple\", \"banana\", \"cherry\", \"mango\", \"orange\"]\n",
        "\n",
        "# Accessing elements\n",
        "print(\"First fruit:\", fruits[0])\n",
        "print(\"Last fruit:\", fruits[-1])\n",
        "\n",
        "# Length of the list\n",
        "print(\"Total number of fruits:\", len(fruits))\n"
      ]
    },
    {
      "cell_type": "markdown",
      "source": [
        "##Exercise 2: Creating Lists & Tuples\n",
        "\n",
        "Task:\n",
        "\n",
        "Create a list of your 5 favorite movies.\n",
        "\n",
        "Create a tuple of 3 countries you want to visit.\n",
        "\n",
        "Print both collections."
      ],
      "metadata": {
        "id": "9FSWQoARZj8U"
      }
    },
    {
      "cell_type": "code",
      "source": [
        "movies = [\"Inception\", \"Interstellar\", \"Avatar\", \"Titanic\", \"The Matrix\"]\n",
        "countries = (\"Japan\", \"Italy\", \"Canada\")\n",
        "\n",
        "print(\"Movies list:\", movies)\n",
        "print(\"Countries tuple:\", countries)\n"
      ],
      "metadata": {
        "colab": {
          "base_uri": "https://localhost:8080/"
        },
        "id": "1zDEnfmGZTWR",
        "outputId": "0fdecaf7-336d-4204-99c5-2f359c98a65d"
      },
      "execution_count": null,
      "outputs": [
        {
          "output_type": "stream",
          "name": "stdout",
          "text": [
            "Movies list: ['Inception', 'Interstellar', 'Avatar', 'Titanic', 'The Matrix']\n",
            "Countries tuple: ('Japan', 'Italy', 'Canada')\n"
          ]
        }
      ]
    },
    {
      "cell_type": "markdown",
      "source": [
        "##Exercise 3: Slicing Lists & Tuples\n",
        "\n",
        "Task:\n",
        "Given:\n",
        "\n",
        "numbers = [5, 10, 15, 20, 25, 30, 35]<br>\n",
        "days = (\"Mon\", \"Tue\", \"Wed\", \"Thu\", \"Fri\", \"Sat\", \"Sun\")\n",
        "\n",
        "--Question--<br>\n",
        "Print the first three numbers.\n",
        "\n",
        "Print the last three days.\n",
        "\n",
        "Print every second number.\n",
        "\n",
        "Print the weekend days using slicing."
      ],
      "metadata": {
        "id": "krPhRToBZsoE"
      }
    },
    {
      "cell_type": "code",
      "source": [
        "numbers = [5, 10, 15, 20, 25, 30, 35]\n",
        "days = (\"Mon\", \"Tue\", \"Wed\", \"Thu\", \"Fri\", \"Sat\", \"Sun\")\n",
        "\n",
        "print(\"First three numbers:\", numbers[:3])\n",
        "print(\"Last three days:\", days[-3:])\n",
        "print(\"Every second number:\", numbers[::2])\n",
        "print(\"Weekend days:\", days[-2:])\n"
      ],
      "metadata": {
        "colab": {
          "base_uri": "https://localhost:8080/"
        },
        "id": "b8P3g8TdZovp",
        "outputId": "7faa71af-0721-44bf-ae49-5a29f5be81a0"
      },
      "execution_count": null,
      "outputs": [
        {
          "output_type": "stream",
          "name": "stdout",
          "text": [
            "First three numbers: [5, 10, 15]\n",
            "Last three days: ('Fri', 'Sat', 'Sun')\n",
            "Every second number: [5, 15, 25, 35]\n",
            "Weekend days: ('Sat', 'Sun')\n"
          ]
        }
      ]
    },
    {
      "cell_type": "markdown",
      "source": [
        "\n",
        "\n",
        "##Exercise 4: Nesting\n",
        "\n",
        "Task:\n",
        "Create a list that contains student information:\n",
        "\n",
        "[\"Bob\", 21, (\"Math\", \"Science\", \"History\")]\n",
        "\n",
        "\n",
        "Print the student’s name.\n",
        "\n",
        "Print the student’s age.\n",
        "\n",
        "Print the second subject."
      ],
      "metadata": {
        "id": "Gn8FC1dVZ_Jd"
      }
    },
    {
      "cell_type": "code",
      "source": [
        "student = [\"Bob\", 21, (\"Math\", \"Science\", \"History\")]\n",
        "\n",
        "print(\"Name:\", student[0])\n",
        "print(\"Age:\", student[1])\n",
        "print(\"Second subject:\", student[2][1])\n"
      ],
      "metadata": {
        "colab": {
          "base_uri": "https://localhost:8080/"
        },
        "id": "u22bod-fZ3xZ",
        "outputId": "ad9f18fe-eefe-4e96-c000-11dc83d7c26b"
      },
      "execution_count": null,
      "outputs": [
        {
          "output_type": "stream",
          "name": "stdout",
          "text": [
            "Name: Bob\n",
            "Age: 21\n",
            "Second subject: Science\n"
          ]
        }
      ]
    },
    {
      "cell_type": "markdown",
      "source": [
        "##Exercise 5: List Methods\n",
        "\n",
        "Task:\n",
        "Start with an empty list: nums = []\n",
        "\n",
        "Append numbers 10, 20, 30.\n",
        "\n",
        "Insert 15 at index 1.\n",
        "\n",
        "Remove 20.\n",
        "\n",
        "Reverse the list.\n",
        "\n",
        "Print the final list."
      ],
      "metadata": {
        "id": "USLYrBr_aQRG"
      }
    },
    {
      "cell_type": "code",
      "source": [
        "nums = []\n",
        "\n",
        "nums.append(10)\n",
        "nums.append(20)\n",
        "nums.append(30)\n",
        "\n",
        "nums.insert(1, 15)\n",
        "nums.remove(20)\n",
        "\n",
        "nums.reverse()\n",
        "\n",
        "print(\"Final list:\", nums)\n"
      ],
      "metadata": {
        "colab": {
          "base_uri": "https://localhost:8080/"
        },
        "id": "JlXSnd_eaLlJ",
        "outputId": "caa846c2-0a9c-4e9f-e8d4-6929bedaf885"
      },
      "execution_count": null,
      "outputs": [
        {
          "output_type": "stream",
          "name": "stdout",
          "text": [
            "Final list: [30, 15, 10]\n"
          ]
        }
      ]
    },
    {
      "cell_type": "markdown",
      "source": [
        "##Exercise 6: Tuple Immutability\n",
        "\n",
        "Task:\n",
        "Create a tuple:\n",
        "\n",
        "colors = (\"red\", \"green\", \"blue\", \"yellow\")\n",
        "\n",
        "\n",
        "Print the first two colors.\n",
        "\n",
        "Try to change the first element to \"black\" and handle the error."
      ],
      "metadata": {
        "id": "PAu12Sqcai4L"
      }
    },
    {
      "cell_type": "code",
      "source": [
        "colors = (\"red\", \"green\", \"blue\", \"yellow\")\n",
        "\n",
        "print(\"First two colors:\", colors[:2])\n",
        "\n",
        "try:\n",
        "    colors[0] = \"black\"\n",
        "except TypeError as e:\n",
        "    print(\"Error:\", e)\n"
      ],
      "metadata": {
        "colab": {
          "base_uri": "https://localhost:8080/"
        },
        "id": "wzzdQiWBagMm",
        "outputId": "f32befcd-9a93-4ef1-b7ba-81b7c11f2b3e"
      },
      "execution_count": null,
      "outputs": [
        {
          "output_type": "stream",
          "name": "stdout",
          "text": [
            "First two colors: ('red', 'green')\n",
            "Error: 'tuple' object does not support item assignment\n"
          ]
        }
      ]
    },
    {
      "cell_type": "code",
      "source": [],
      "metadata": {
        "id": "mwIWNNH9ap0m"
      },
      "execution_count": null,
      "outputs": []
    }
  ]
}