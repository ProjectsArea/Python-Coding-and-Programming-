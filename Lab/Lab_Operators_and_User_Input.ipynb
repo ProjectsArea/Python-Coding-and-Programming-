{
  "nbformat": 4,
  "nbformat_minor": 0,
  "metadata": {
    "colab": {
      "provenance": []
    },
    "kernelspec": {
      "name": "python3",
      "display_name": "Python 3"
    },
    "language_info": {
      "name": "python"
    }
  },
  "cells": [
    {
      "cell_type": "markdown",
      "source": [
        "#Exercise 1\n",
        "\n",
        "Write a program that asks the user for two numbers and prints their sum, difference, product, quotient, and modulus."
      ],
      "metadata": {
        "id": "sfR8cIgoWvbV"
      }
    },
    {
      "cell_type": "code",
      "execution_count": null,
      "metadata": {
        "colab": {
          "base_uri": "https://localhost:8080/"
        },
        "id": "KfJjXFb_WsbZ",
        "outputId": "8abf0c8e-8006-4c3d-8fcb-af8d8f1df28d"
      },
      "outputs": [
        {
          "output_type": "stream",
          "name": "stdout",
          "text": [
            "Enter first number: 25\n",
            "Enter second number: 12\n",
            "Sum: 37\n",
            "Difference: 13\n",
            "Product: 300\n",
            "Quotient: 2.0833333333333335\n",
            "Modulus: 1\n"
          ]
        }
      ],
      "source": [
        "#solution\n",
        "\n",
        "a = int(input(\"Enter first number: \"))\n",
        "b = int(input(\"Enter second number: \"))\n",
        "\n",
        "print(\"Sum:\", a + b)\n",
        "print(\"Difference:\", a - b)\n",
        "print(\"Product:\", a * b)\n",
        "print(\"Quotient:\", a / b)\n",
        "print(\"Modulus:\", a % b)\n"
      ]
    },
    {
      "cell_type": "markdown",
      "source": [
        "#Exercise 2\n",
        "Take two inputs: age and has_ticket (True/False).\n",
        "If the person is 18 or older and has a ticket, print \"Allowed\". Otherwise, print \"Not allowed\"."
      ],
      "metadata": {
        "id": "Gb2VeZiDXIzc"
      }
    },
    {
      "cell_type": "code",
      "source": [
        "age = int(input(\"Enter your age: \"))\n",
        "has_ticket = input(\"Do you have a ticket? (yes/no): \")\n",
        "\n",
        "if age >= 18 and has_ticket == \"yes\":\n",
        "    print(\"Allowed\")\n",
        "else:\n",
        "    print(\"Not allowed\")\n"
      ],
      "metadata": {
        "colab": {
          "base_uri": "https://localhost:8080/"
        },
        "id": "s_4C4l-XW-V6",
        "outputId": "a4346357-a533-4f60-d506-759a000ba373"
      },
      "execution_count": null,
      "outputs": [
        {
          "output_type": "stream",
          "name": "stdout",
          "text": [
            "Enter your age: 15\n",
            "Do you have a ticket? (yes/no): yes\n",
            "Not allowed\n"
          ]
        }
      ]
    },
    {
      "cell_type": "markdown",
      "source": [
        "#Exercise 3\n",
        "Start with a variable score = 50.\n",
        "\n",
        "Increase it by 20 using +=\n",
        "\n",
        "Multiply it by 2 using *=\n",
        "\n",
        "Subtract 15 using -=\n",
        "Finally, print the updated score."
      ],
      "metadata": {
        "id": "6gJlUJzeZJcj"
      }
    },
    {
      "cell_type": "code",
      "source": [
        "score = 50\n",
        "score += 20   # 70\n",
        "score *= 2    # 140\n",
        "score -= 15   # 125\n",
        "print(\"Final Score:\", score)\n"
      ],
      "metadata": {
        "colab": {
          "base_uri": "https://localhost:8080/"
        },
        "id": "XUECsn-uXdXU",
        "outputId": "884fb3aa-a03c-4e7c-f1aa-15929fba09dc"
      },
      "execution_count": null,
      "outputs": [
        {
          "output_type": "stream",
          "name": "stdout",
          "text": [
            "Final Score: 125\n"
          ]
        }
      ]
    },
    {
      "cell_type": "markdown",
      "source": [
        "#Exercise 4\n",
        "fruits = [\"apple\", \"banana\", \"cherry\"]<br>\n",
        "x = [\"apple\", \"banana\", \"cherry\"]<br>\n",
        "y = fruits<br>\n",
        "\n",
        "Check if \"banana\" is in fruits.\n",
        "\n",
        "Check if \"grape\" is not in fruits.\n",
        "\n",
        "Check if fruits is y.\n",
        "\n",
        "Check if fruits is x.\n",
        "Explain why the last two checks give different results.\n"
      ],
      "metadata": {
        "id": "t5T_0Q4GbINk"
      }
    },
    {
      "cell_type": "code",
      "source": [
        "fruits = [\"apple\", \"banana\", \"cherry\"]\n",
        "x = [\"apple\", \"banana\", \"cherry\"]\n",
        "y = fruits\n",
        "\n",
        "print(\"Is 'banana' in fruits?\", \"banana\" in fruits)   # True\n",
        "print(\"Is 'grape' not in fruits?\", \"grape\" not in fruits)  # True\n",
        "print(\"fruits is y:\", fruits is y)   # True (same object in memory)\n",
        "print(\"fruits is x:\", fruits is x)   # False (different objects, even if values match)\n"
      ],
      "metadata": {
        "colab": {
          "base_uri": "https://localhost:8080/"
        },
        "id": "2IfzvnmJabtH",
        "outputId": "e3db752d-4a63-41af-8b21-a2ab61536075"
      },
      "execution_count": null,
      "outputs": [
        {
          "output_type": "stream",
          "name": "stdout",
          "text": [
            "Is 'banana' in fruits? True\n",
            "Is 'grape' not in fruits? True\n",
            "fruits is y: True\n",
            "fruits is x: False\n"
          ]
        }
      ]
    },
    {
      "cell_type": "markdown",
      "source": [
        "#Exercise 5\n",
        "Write a program that:\n",
        "\n",
        "Takes a user’s name and age as input.\n",
        "\n",
        "If the user’s name contains the letter \"a\" and age is greater than 18, print:\n",
        "\"Welcome, <name>! You are eligible.\"\n",
        "\n",
        "Otherwise, print:\n",
        "\"Sorry, <name>. You are not eligible.\""
      ],
      "metadata": {
        "id": "Kf5RZRkFbhPb"
      }
    },
    {
      "cell_type": "code",
      "source": [
        "name = input(\"Enter your name: \")\n",
        "age = int(input(\"Enter your age: \"))\n",
        "\n",
        "if \"a\" in name.lower() and age > 18:\n",
        "    print(f\"Welcome, {name}! You are eligible.\")\n",
        "else:\n",
        "    print(f\"Sorry, {name}. You are not eligible.\")\n"
      ],
      "metadata": {
        "colab": {
          "base_uri": "https://localhost:8080/"
        },
        "id": "YlbOYUB_bZWM",
        "outputId": "52383bf2-42fe-47d5-d8bd-720458f422e9"
      },
      "execution_count": null,
      "outputs": [
        {
          "output_type": "stream",
          "name": "stdout",
          "text": [
            "Enter your name: Alex\n",
            "Enter your age: 20\n",
            "Welcome, Alex! You are eligible.\n"
          ]
        }
      ]
    }
  ]
}