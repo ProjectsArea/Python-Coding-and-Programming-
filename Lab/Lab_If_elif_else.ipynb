{
  "nbformat": 4,
  "nbformat_minor": 0,
  "metadata": {
    "colab": {
      "provenance": []
    },
    "kernelspec": {
      "name": "python3",
      "display_name": "Python 3"
    },
    "language_info": {
      "name": "python"
    }
  },
  "cells": [
    {
      "cell_type": "markdown",
      "source": [
        "#Q1. Even or Odd\n",
        "\n",
        "Write a program that asks the user to enter an integer.\n",
        "\n",
        "If the number is even, print \"Even\".\n",
        "\n",
        "If the number is odd, print \"Odd\"."
      ],
      "metadata": {
        "id": "GauvMwBr_7ar"
      }
    },
    {
      "cell_type": "code",
      "execution_count": null,
      "metadata": {
        "colab": {
          "base_uri": "https://localhost:8080/"
        },
        "id": "l72XycO7_2fC",
        "outputId": "756e67f8-fa4f-4431-f7ef-fa473a712ad7"
      },
      "outputs": [
        {
          "output_type": "stream",
          "name": "stdout",
          "text": [
            "Enter a number: 12\n",
            "Even\n"
          ]
        }
      ],
      "source": [
        "num = int(input(\"Enter a number: \"))\n",
        "\n",
        "if num % 2 == 0:\n",
        "    print(\"Even\")\n",
        "else:\n",
        "    print(\"Odd\")\n"
      ]
    },
    {
      "cell_type": "markdown",
      "source": [
        "#Q2. Largest of Three Numbers\n",
        "\n",
        "Take three numbers as input.\n",
        "\n",
        "Print which one is the largest.\n",
        "\n",
        "If two or more numbers are equal and largest, print \"Equal largest\"."
      ],
      "metadata": {
        "id": "2FCxX0DcadLu"
      }
    },
    {
      "cell_type": "code",
      "source": [
        "a = int(input(\"Enter first number: \"))\n",
        "b = int(input(\"Enter second number: \"))\n",
        "c = int(input(\"Enter third number: \"))\n",
        "\n",
        "if a == b == c:\n",
        "    print(\"All numbers are equal\")\n",
        "elif a >= b and a >= c:\n",
        "    print(\"Largest:\", a)\n",
        "elif b >= a and b >= c:\n",
        "    print(\"Largest:\", b)\n",
        "else:\n",
        "    print(\"Largest:\", c)\n"
      ],
      "metadata": {
        "colab": {
          "base_uri": "https://localhost:8080/"
        },
        "id": "k89h8m4gNqe_",
        "outputId": "bd8e5f49-80f9-4b98-98d6-b0a1fb54187f"
      },
      "execution_count": null,
      "outputs": [
        {
          "output_type": "stream",
          "name": "stdout",
          "text": [
            "Enter first number: 12\n",
            "Enter second number: 21\n",
            "Enter third number: 7\n",
            "Largest: 21\n"
          ]
        }
      ]
    },
    {
      "cell_type": "markdown",
      "source": [
        "#Q3. Grade Calculator\n",
        "\n",
        "Ask the user for their marks (0–100).\n",
        "\n",
        "90–100 → \"A\"\n",
        "\n",
        "80–89 → \"B\"\n",
        "\n",
        "70–79 → \"C\"\n",
        "\n",
        "60–69 → \"D\"\n",
        "\n",
        "Below 60 → \"F\""
      ],
      "metadata": {
        "id": "RrQBMIv3aqU0"
      }
    },
    {
      "cell_type": "code",
      "source": [
        "marks = int(input(\"Enter your marks (0-100): \"))\n",
        "\n",
        "if marks >= 90:\n",
        "    print(\"Grade: A\")\n",
        "elif marks >= 80:\n",
        "    print(\"Grade: B\")\n",
        "elif marks >= 70:\n",
        "    print(\"Grade: C\")\n",
        "elif marks >= 60:\n",
        "    print(\"Grade: D\")\n",
        "else:\n",
        "    print(\"Grade: F\")\n"
      ],
      "metadata": {
        "colab": {
          "base_uri": "https://localhost:8080/"
        },
        "id": "YjDCa8H5akZs",
        "outputId": "f65c6327-08a1-4595-f6e0-94f35e3f2392"
      },
      "execution_count": null,
      "outputs": [
        {
          "output_type": "stream",
          "name": "stdout",
          "text": [
            "Enter your marks (0-100): 45\n",
            "Grade: F\n"
          ]
        }
      ]
    },
    {
      "cell_type": "markdown",
      "source": [
        "#Q4. Leap Year Checker\n",
        "\n",
        "Take a year as input.\n",
        "\n",
        "If it is divisible by 4 and not divisible by 100 → \"Leap Year\".\n",
        "\n",
        "If it is divisible by 400 → \"Leap Year\".\n",
        "\n",
        "Otherwise → \"Not a Leap Year\"."
      ],
      "metadata": {
        "id": "WIO6vbzraz10"
      }
    },
    {
      "cell_type": "code",
      "source": [
        "year = int(input(\"Enter a year: \"))\n",
        "\n",
        "if (year % 400 == 0) or (year % 4 == 0 and year % 100 != 0):\n",
        "    print(\"Leap Year\")\n",
        "else:\n",
        "    print(\"Not a Leap Year\")\n"
      ],
      "metadata": {
        "colab": {
          "base_uri": "https://localhost:8080/"
        },
        "id": "4orSdT2iav3O",
        "outputId": "56c53b5b-f67f-4729-8a26-b275bc721fcf"
      },
      "execution_count": null,
      "outputs": [
        {
          "output_type": "stream",
          "name": "stdout",
          "text": [
            "Enter a year: 2026\n",
            "Not a Leap Year\n"
          ]
        }
      ]
    },
    {
      "cell_type": "markdown",
      "source": [
        "#Q5. Simple Calculator (two numbers)\n",
        "\n",
        "Ask the user to input two numbers and an operator (+, -, *, /).\n",
        "\n",
        "Perform the calculation accordingly.\n",
        "\n",
        "If division by zero is attempted, print \"Error: Division by zero\"."
      ],
      "metadata": {
        "id": "PaQmV4Zxa941"
      }
    },
    {
      "cell_type": "code",
      "source": [
        "num1 = float(input(\"Enter first number: \"))\n",
        "num2 = float(input(\"Enter second number: \"))\n",
        "operator = input(\"Enter operator (+, -, *, /): \")\n",
        "\n",
        "if operator == \"+\":\n",
        "    print(\"Result:\", num1 + num2)\n",
        "elif operator == \"-\":\n",
        "    print(\"Result:\", num1 - num2)\n",
        "elif operator == \"*\":\n",
        "    print(\"Result:\", num1 * num2)\n",
        "elif operator == \"/\":\n",
        "    if num2 != 0:\n",
        "        print(\"Result:\", num1 / num2)\n",
        "    else:\n",
        "        print(\"Error: Division by zero\")\n",
        "else:\n",
        "    print(\"Invalid operator\")\n"
      ],
      "metadata": {
        "colab": {
          "base_uri": "https://localhost:8080/"
        },
        "id": "blivxVJ1a4Ll",
        "outputId": "42e04c30-0bbd-4f3d-fb63-ac5a00e03e6e"
      },
      "execution_count": null,
      "outputs": [
        {
          "output_type": "stream",
          "name": "stdout",
          "text": [
            "Enter first number: 45\n",
            "Enter second number: 5\n",
            "Enter operator (+, -, *, /): /\n",
            "Result: 9.0\n"
          ]
        }
      ]
    }
  ]
}