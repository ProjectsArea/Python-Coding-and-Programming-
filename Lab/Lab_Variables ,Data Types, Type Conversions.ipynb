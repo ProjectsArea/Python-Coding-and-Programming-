{
  "nbformat": 4,
  "nbformat_minor": 0,
  "metadata": {
    "colab": {
      "provenance": []
    },
    "kernelspec": {
      "name": "python3",
      "display_name": "Python 3"
    },
    "language_info": {
      "name": "python"
    }
  },
  "cells": [
    {
      "cell_type": "markdown",
      "source": [
        "\n",
        "# Exercise 1: Variables and Printing\n",
        "\n",
        "Create three variables:\n",
        "\n",
        "name (string),\n",
        "\n",
        "age (integer),\n",
        "\n",
        "height (float).\n",
        "\n",
        "Print a sentence like:\n",
        "\"My name is John, I am 25 years old, and I am 5.9 feet tall.\"\n",
        "\n"
      ],
      "metadata": {
        "id": "EHekUmTwpi1-"
      }
    },
    {
      "cell_type": "code",
      "execution_count": null,
      "metadata": {
        "colab": {
          "base_uri": "https://localhost:8080/"
        },
        "id": "RhW-qlQlpelB",
        "outputId": "1bd5e164-fb56-45ac-9f50-673ebadd6d17"
      },
      "outputs": [
        {
          "output_type": "stream",
          "name": "stdout",
          "text": [
            "My name is John, I am 25 years old, and I am 5.9 feet tall.\n"
          ]
        }
      ],
      "source": [
        "# Solution\n",
        "name = \"John\"\n",
        "age = 25\n",
        "height = 5.9\n",
        "\n",
        "print(f\"My name is {name}, I am {age} years old, and I am {height} feet tall.\")\n"
      ]
    },
    {
      "cell_type": "markdown",
      "source": [
        "#Exercise 2: Identifying Data Types\n",
        "\n",
        "Given the variables:\n",
        "\n",
        "x = 42<br>\n",
        "y = 3.14<br>\n",
        "z = \"Hello\"<br>\n",
        "w = True\n",
        "\n",
        "\n",
        "Write code to print the type of each variable using the type() function."
      ],
      "metadata": {
        "id": "_LsHILm9pzRQ"
      }
    },
    {
      "cell_type": "code",
      "source": [
        "# Solution\n",
        "x = 42\n",
        "y = 3.14\n",
        "z = \"Hello\"\n",
        "w = True\n",
        "\n",
        "print(type(x))  # <class 'int'>\n",
        "print(type(y))  # <class 'float'>\n",
        "print(type(z))  # <class 'str'>\n",
        "print(type(w))  # <class 'bool'>\n"
      ],
      "metadata": {
        "colab": {
          "base_uri": "https://localhost:8080/"
        },
        "id": "oZwxyokNqCEZ",
        "outputId": "8f8fec3b-e650-490d-f625-a60adc6fb683"
      },
      "execution_count": null,
      "outputs": [
        {
          "output_type": "stream",
          "name": "stdout",
          "text": [
            "<class 'int'>\n",
            "<class 'float'>\n",
            "<class 'str'>\n",
            "<class 'bool'>\n"
          ]
        }
      ]
    },
    {
      "cell_type": "markdown",
      "source": [
        "#Exercise 3: Simple Type Conversion\n",
        "\n",
        "Take user input for their age (string by default) and:\n",
        "\n",
        "Convert it into an integer.\n",
        "\n",
        "Add 5 to the age.\n",
        "\n",
        "Print: \"In 5 years, you will be X years old.\""
      ],
      "metadata": {
        "id": "rzPEq0eNqHsh"
      }
    },
    {
      "cell_type": "code",
      "source": [
        "# Solution\n",
        "age = input(\"Enter your age: \")   # input is string\n",
        "age_int = int(age)                # convert to int\n",
        "future_age = age_int + 5\n",
        "\n",
        "print(f\"In 5 years, you will be {future_age} years old.\")\n"
      ],
      "metadata": {
        "colab": {
          "base_uri": "https://localhost:8080/"
        },
        "id": "fm4iLWyaqFfp",
        "outputId": "ca469546-7799-497f-d36f-4d29ccf01d7f"
      },
      "execution_count": null,
      "outputs": [
        {
          "output_type": "stream",
          "name": "stdout",
          "text": [
            "Enter your age: 10\n",
            "In 5 years, you will be 15 years old.\n"
          ]
        }
      ]
    },
    {
      "cell_type": "markdown",
      "source": [
        "#Exercise 4: Mixing Data Types\n",
        "\n",
        "You are given:\n",
        "\n",
        "num1 = \"10\"\n",
        "num2 = 5\n",
        "\n",
        "\n",
        "Convert num1 into an integer and add it to num2.\n",
        "\n",
        "Convert num2 into a string and concatenate it with num1.\n",
        "\n",
        "Print both results."
      ],
      "metadata": {
        "id": "BE62tRVaqZ_4"
      }
    },
    {
      "cell_type": "code",
      "source": [
        "# Solution\n",
        "num1 = \"10\"\n",
        "num2 = 5\n",
        "\n",
        "# Convert num1 to int and add\n",
        "sum_result = int(num1) + num2\n",
        "\n",
        "# Convert num2 to str and concatenate\n",
        "concat_result = num1 + str(num2)\n",
        "\n",
        "print(\"Sum:\", sum_result)            # 15\n",
        "print(\"Concatenation:\", concat_result)  # \"105\"\n"
      ],
      "metadata": {
        "colab": {
          "base_uri": "https://localhost:8080/"
        },
        "id": "R8QJC5CXqSbn",
        "outputId": "3744cffe-440e-430d-e56e-312e09f064e6"
      },
      "execution_count": null,
      "outputs": [
        {
          "output_type": "stream",
          "name": "stdout",
          "text": [
            "Sum: 15\n",
            "Concatenation: 105\n"
          ]
        }
      ]
    },
    {
      "cell_type": "markdown",
      "source": [
        "#Exercise 5: Mini Challenge – Temperature Conversion\n",
        "\n",
        "Ask the user for a temperature in Celsius (float).\n",
        "Convert it into Fahrenheit using the formula:\n",
        "\n",
        "𝐹=\n",
        "(\n",
        "𝐶\n",
        "×\n",
        "9/\n",
        "5\n",
        ")\n",
        "+\n",
        "32\n",
        "\n",
        "Print the result with a message like: \"25.0°C is equal to 77.0°F\""
      ],
      "metadata": {
        "id": "_Czev0yOql1m"
      }
    },
    {
      "cell_type": "code",
      "source": [
        "# Solution\n",
        "celsius = float(input(\"Enter temperature in Celsius: \"))\n",
        "fahrenheit = (celsius * 9/5) + 32\n",
        "\n",
        "print(f\"{celsius}°C is equal to {fahrenheit}°F\")\n"
      ],
      "metadata": {
        "colab": {
          "base_uri": "https://localhost:8080/"
        },
        "id": "nVS43w1mqgDW",
        "outputId": "d6039f26-d53c-4f73-92c6-d5d78ae91578"
      },
      "execution_count": null,
      "outputs": [
        {
          "output_type": "stream",
          "name": "stdout",
          "text": [
            "Enter temperature in Celsius: 25\n",
            "25.0°C is equal to 77.0°F\n"
          ]
        }
      ]
    }
  ]
}