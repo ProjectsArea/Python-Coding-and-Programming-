{
  "nbformat": 4,
  "nbformat_minor": 0,
  "metadata": {
    "colab": {
      "provenance": []
    },
    "kernelspec": {
      "name": "python3",
      "display_name": "Python 3"
    },
    "language_info": {
      "name": "python"
    }
  },
  "cells": [
    {
      "cell_type": "markdown",
      "source": [
        "#1. Sum of Even Numbers\n",
        "##Problem:\n",
        " Write a Python program using a for loop to calculate the sum of all even numbers between 1 and a user-inputted number n (inclusive). Use continue to skip odd numbers."
      ],
      "metadata": {
        "id": "l9pWJ71O2h-M"
      }
    },
    {
      "cell_type": "code",
      "execution_count": null,
      "metadata": {
        "colab": {
          "base_uri": "https://localhost:8080/"
        },
        "id": "82JcE21x2atw",
        "outputId": "789f7409-9bf1-4f4a-b35a-ceafa7f08cc3"
      },
      "outputs": [
        {
          "output_type": "stream",
          "name": "stdout",
          "text": [
            "Enter a number: 20\n",
            "Sum of even numbers: 110\n"
          ]
        }
      ],
      "source": [
        "n = int(input(\"Enter a number: \"))\n",
        "even_sum = 0\n",
        "for i in range(1, n + 1):\n",
        "    if i % 2 != 0:  # Skip odd numbers\n",
        "        continue\n",
        "    even_sum += i\n",
        "print(f\"Sum of even numbers: {even_sum}\")"
      ]
    },
    {
      "cell_type": "markdown",
      "source": [
        "#2. Password Validator (Easy)\n",
        "##Problem: <br>\n",
        "  Create a Python program using a while loop that repeatedly asks the user to enter a password until they input a password that is at least 8 characters long. Use break to exit the loop once a valid password is entered. If the user enters \"quit\", stop the program immediately using break."
      ],
      "metadata": {
        "id": "fzMMEPKm298m"
      }
    },
    {
      "cell_type": "code",
      "source": [
        "while True:\n",
        "    password = input(\"Enter password: \")\n",
        "    if password == \"quit\":\n",
        "        print(\"Program terminated.\")\n",
        "        break\n",
        "    if len(password) >= 8:\n",
        "        print(\"Valid password!\")\n",
        "        break\n",
        "    else:\n",
        "        print(\"Password too short. Try again.\")"
      ],
      "metadata": {
        "colab": {
          "base_uri": "https://localhost:8080/"
        },
        "id": "fE1gTSdq2xPt",
        "outputId": "80371a38-232c-4eaf-bef4-c500e87dbdbb"
      },
      "execution_count": null,
      "outputs": [
        {
          "output_type": "stream",
          "name": "stdout",
          "text": [
            "Enter password: 3\n",
            "Password too short. Try again.\n",
            "Enter password: quit\n",
            "Program terminated.\n"
          ]
        }
      ]
    },
    {
      "cell_type": "markdown",
      "source": [
        "#3. Prime Number Checker (Moderate)\n",
        "##Problem:\n",
        "Write a Python program to check if a user-inputted number is prime using a for loop. Use break to optimize the loop by stopping once you know the number is not prime. If no divisors are found, use pass in the else block of the loop to indicate the number is prime."
      ],
      "metadata": {
        "id": "l2Ykk3IM3mv0"
      }
    },
    {
      "cell_type": "code",
      "source": [
        "n = int(input(\"Enter a number: \"))\n",
        "if n < 2:\n",
        "    print(f\"{n} is not a prime number\")\n",
        "else:\n",
        "    for i in range(2, int(n ** 0.5) + 1):\n",
        "        if n % i == 0:\n",
        "            print(f\"{n} is not a prime number\")\n",
        "            break\n",
        "    else:\n",
        "        pass  # No divisors found, number is prime\n",
        "        print(f\"{n} is a prime number\")"
      ],
      "metadata": {
        "colab": {
          "base_uri": "https://localhost:8080/"
        },
        "id": "iKJRj7w73XxX",
        "outputId": "4fd6e685-9351-405a-c661-5de7e15960b5"
      },
      "execution_count": null,
      "outputs": [
        {
          "output_type": "stream",
          "name": "stdout",
          "text": [
            "Enter a number: 23\n",
            "23 is a prime number\n"
          ]
        }
      ]
    },
    {
      "cell_type": "markdown",
      "source": [
        "#4. Skip Multiples of 3 and 5\n",
        "##Problem:\n",
        "Write a Python program using a for loop to print all numbers from 1 to 50, but skip numbers that are multiples of both 3 and 5 using continue. If the number is divisible by only one of them, print it normally."
      ],
      "metadata": {
        "id": "x8hvovW44Ddj"
      }
    },
    {
      "cell_type": "code",
      "source": [
        "for num in range(1, 51):\n",
        "    if num % 3 == 0 and num % 5 == 0:  # Multiples of both 3 and 5\n",
        "        continue\n",
        "    print(num)"
      ],
      "metadata": {
        "colab": {
          "base_uri": "https://localhost:8080/"
        },
        "id": "8TxmbpwW397D",
        "outputId": "0694a410-6329-4ea2-9ed0-75ecb8962736"
      },
      "execution_count": null,
      "outputs": [
        {
          "output_type": "stream",
          "name": "stdout",
          "text": [
            "1\n",
            "2\n",
            "3\n",
            "4\n",
            "5\n",
            "6\n",
            "7\n",
            "8\n",
            "9\n",
            "10\n",
            "11\n",
            "12\n",
            "13\n",
            "14\n",
            "16\n",
            "17\n",
            "18\n",
            "19\n",
            "20\n",
            "21\n",
            "22\n",
            "23\n",
            "24\n",
            "25\n",
            "26\n",
            "27\n",
            "28\n",
            "29\n",
            "31\n",
            "32\n",
            "33\n",
            "34\n",
            "35\n",
            "36\n",
            "37\n",
            "38\n",
            "39\n",
            "40\n",
            "41\n",
            "42\n",
            "43\n",
            "44\n",
            "46\n",
            "47\n",
            "48\n",
            "49\n",
            "50\n"
          ]
        }
      ]
    },
    {
      "cell_type": "markdown",
      "source": [
        "#5. Factorial\n",
        "##Problem\n",
        "Print Factorial of your chosen number"
      ],
      "metadata": {
        "id": "AvnXB9WM4Pzr"
      }
    },
    {
      "cell_type": "code",
      "source": [
        "n=int(input(\"enter a number\"))\n",
        "fact=1\n",
        "for i in range(1,num+1):\n",
        "  fact*=i\n",
        "print(f\"factorial of {n} is\",fact)"
      ],
      "metadata": {
        "colab": {
          "base_uri": "https://localhost:8080/"
        },
        "id": "I3O6It1k4OQd",
        "outputId": "7b4533f7-6921-4304-aedc-1f72a37b9a81"
      },
      "execution_count": null,
      "outputs": [
        {
          "output_type": "stream",
          "name": "stdout",
          "text": [
            "enter a number5\n",
            "factorial of 5 is 120\n"
          ]
        }
      ]
    },
    {
      "cell_type": "code",
      "source": [],
      "metadata": {
        "id": "bi53t782Fi_W"
      },
      "execution_count": null,
      "outputs": []
    }
  ]
}