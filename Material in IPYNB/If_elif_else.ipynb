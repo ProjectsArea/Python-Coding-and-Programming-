{
  "nbformat": 4,
  "nbformat_minor": 0,
  "metadata": {
    "colab": {
      "provenance": []
    },
    "kernelspec": {
      "name": "python3",
      "display_name": "Python 3"
    },
    "language_info": {
      "name": "python"
    }
  },
  "cells": [
    {
      "cell_type": "markdown",
      "source": [
        "### ✅ Conditional Statements\n",
        "\n",
        "- **if**: Executes code if condition is True\n",
        "- **elif**: Executes if previous conditions are False\n",
        "- **else**: Executes if none of the conditions are True\n"
      ],
      "metadata": {
        "id": "1NhhEgTICTWG"
      }
    },
    {
      "cell_type": "code",
      "source": [
        "age = int(input(\"Enter your age: \"))\n",
        "\n",
        "if age >= 18:\n",
        "    print(\"You are an adult.\")\n"
      ],
      "metadata": {
        "colab": {
          "base_uri": "https://localhost:8080/"
        },
        "id": "8KWYA_QMCT7J",
        "outputId": "233628bf-e987-4c44-ceea-8e90c0f88a80"
      },
      "execution_count": null,
      "outputs": [
        {
          "output_type": "stream",
          "name": "stdout",
          "text": [
            "Enter your age: 23\n",
            "You are an adult.\n"
          ]
        }
      ]
    },
    {
      "cell_type": "markdown",
      "source": [
        "### If Else"
      ],
      "metadata": {
        "id": "5cNM-GmECZ1O"
      }
    },
    {
      "cell_type": "code",
      "source": [
        "number = int(input(\"Enter a number: \"))\n",
        "\n",
        "if number % 2 == 0:\n",
        "    print(\"Even number\")\n",
        "else:\n",
        "    print(\"Odd number\")\n"
      ],
      "metadata": {
        "colab": {
          "base_uri": "https://localhost:8080/"
        },
        "id": "P7w_X1q4Cdqx",
        "outputId": "3c65725a-5366-4fe5-b525-2eddfca63d52"
      },
      "execution_count": null,
      "outputs": [
        {
          "output_type": "stream",
          "name": "stdout",
          "text": [
            "Enter a number: 5\n",
            "Odd number\n"
          ]
        }
      ]
    },
    {
      "cell_type": "markdown",
      "source": [
        "### if elif else"
      ],
      "metadata": {
        "id": "qZ-yhNGxCmic"
      }
    },
    {
      "cell_type": "code",
      "source": [
        "marks = int(input(\"Enter your marks: \"))\n",
        "\n",
        "if marks >= 90:\n",
        "    print(\"Grade: A\")\n",
        "elif marks >= 75:\n",
        "    print(\"Grade: B\")\n",
        "elif marks >= 50:\n",
        "    print(\"Grade: C\")\n",
        "else:\n",
        "    print(\"Grade: Fail\")\n"
      ],
      "metadata": {
        "colab": {
          "base_uri": "https://localhost:8080/"
        },
        "id": "UBTqbVtzCfhy",
        "outputId": "15abc32e-5eb9-4731-9b70-984fb4cc9f0a"
      },
      "execution_count": null,
      "outputs": [
        {
          "output_type": "stream",
          "name": "stdout",
          "text": [
            "Enter your marks: 85\n",
            "Grade: B\n"
          ]
        }
      ]
    },
    {
      "cell_type": "markdown",
      "source": [
        "### Nested If"
      ],
      "metadata": {
        "id": "Of-GJglvCtUR"
      }
    },
    {
      "cell_type": "code",
      "source": [
        "age = int(input(\"Enter age: \"))\n",
        "has_license = input(\"Do you have a driving license? (yes/no): \")\n",
        "\n",
        "if age >= 18:\n",
        "    if has_license.lower() == \"yes\":\n",
        "        print(\"You can drive.\")\n",
        "    else:\n",
        "        print(\"You need a license to drive.\")\n",
        "else:\n",
        "    print(\"You are underage to drive.\")\n"
      ],
      "metadata": {
        "colab": {
          "base_uri": "https://localhost:8080/"
        },
        "id": "55RUnK2hCvey",
        "outputId": "ce5deb29-df5f-4138-885e-0fb81efb9b0b"
      },
      "execution_count": null,
      "outputs": [
        {
          "output_type": "stream",
          "name": "stdout",
          "text": [
            "Enter age: 50\n",
            "Do you have a driving license? (yes/no): no\n",
            "You need a license to drive.\n"
          ]
        }
      ]
    }
  ]
}