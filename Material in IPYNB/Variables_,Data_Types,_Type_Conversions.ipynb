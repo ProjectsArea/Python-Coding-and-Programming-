{
  "nbformat": 4,
  "nbformat_minor": 0,
  "metadata": {
    "colab": {
      "provenance": []
    },
    "kernelspec": {
      "name": "python3",
      "display_name": "Python 3"
    },
    "language_info": {
      "name": "python"
    }
  },
  "cells": [
    {
      "cell_type": "markdown",
      "source": [
        "### What is a Variable?\n",
        "\n",
        "A **variable** is a named location used to store data in memory. In Python:\n",
        "- No need to declare the type explicitly\n",
        "- Variables are created when you assign a value\n"
      ],
      "metadata": {
        "id": "g6HhbCe9Mya1"
      }
    },
    {
      "cell_type": "code",
      "source": [],
      "metadata": {
        "id": "LXJLKhDJvLLn"
      },
      "execution_count": null,
      "outputs": []
    },
    {
      "cell_type": "code",
      "source": [
        "# Variable assignment\n",
        "x = 10 # Number assignment\n",
        "name = \"Python\" # String Assignment\n",
        "pi = 3.14 # Decimal Number assignment\n",
        "\n",
        "print(x) # 10\n",
        "print(name) # Python\n",
        "print(pi) # 3.14\n"
      ],
      "metadata": {
        "colab": {
          "base_uri": "https://localhost:8080/"
        },
        "id": "jic1atW7M7k3",
        "outputId": "3d5bfb5e-44f7-4456-c419-0fbd04d4c649"
      },
      "execution_count": null,
      "outputs": [
        {
          "output_type": "stream",
          "name": "stdout",
          "text": [
            "10\n",
            "Python\n",
            "3.14\n"
          ]
        }
      ]
    },
    {
      "cell_type": "markdown",
      "source": [
        "### 🔹 Rules for Naming Variables\n",
        "\n",
        "- Must start with a letter or underscore (`_`)\n",
        "- Cannot start with a number\n",
        "- Can contain letters, numbers, and underscores\n",
        "- Case-sensitive: `name` and `Name` are different\n",
        "\n",
        "✅ Valid: `name`, `_temp`, `value1`  \n",
        "❌ Invalid: `1value`, `user-name`, `class` (reserved word)\n"
      ],
      "metadata": {
        "id": "NNcMzRcHNSLh"
      }
    },
    {
      "cell_type": "markdown",
      "source": [
        "### Built-in Data Types (Basic)\n",
        "\n",
        "| Type      | Example           | Description                         |\n",
        "|-----------|-------------------|-------------------------------------|\n",
        "| int       | `10`              | Integer numbers                     |\n",
        "| float     | `3.14`            | Floating point numbers              |\n",
        "| str       | `\"hello\"`         | Text (string of characters)         |\n",
        "| bool      | `True`, `False`   | Boolean values                      |\n"
      ],
      "metadata": {
        "id": "f9Jd0AJENbY8"
      }
    },
    {
      "cell_type": "code",
      "source": [
        "# Examples of basic data types\n",
        "a = 10          # int\n",
        "b = 3.5         # float\n",
        "c = \"Python\"    # str\n",
        "d = True        # bool\n",
        "\n",
        "# Print type of each\n",
        "print(type(a))\n",
        "print(type(b))\n",
        "print(type(c))\n",
        "print(type(d))\n"
      ],
      "metadata": {
        "colab": {
          "base_uri": "https://localhost:8080/"
        },
        "id": "1VJ0dqNWNgup",
        "outputId": "df02d479-dd73-4540-c195-cef579657a27"
      },
      "execution_count": null,
      "outputs": [
        {
          "output_type": "stream",
          "name": "stdout",
          "text": [
            "<class 'int'>\n",
            "<class 'float'>\n",
            "<class 'str'>\n",
            "<class 'bool'>\n"
          ]
        }
      ]
    },
    {
      "cell_type": "markdown",
      "source": [
        "### 🔸 String Example\n"
      ],
      "metadata": {
        "id": "2-f847UINluF"
      }
    },
    {
      "cell_type": "code",
      "source": [
        "language = \"Python Programming\"\n",
        "print(\"First letter:\", language[0])\n",
        "print(\"Length:\", len(language))"
      ],
      "metadata": {
        "colab": {
          "base_uri": "https://localhost:8080/"
        },
        "id": "OjcD-KcHNouf",
        "outputId": "3e1fc0b2-255e-4c39-aace-255cf9266a2e"
      },
      "execution_count": null,
      "outputs": [
        {
          "output_type": "stream",
          "name": "stdout",
          "text": [
            "First letter: P\n",
            "Length: 18\n"
          ]
        }
      ]
    },
    {
      "cell_type": "markdown",
      "source": [
        "### 🔸 Boolean Example\n"
      ],
      "metadata": {
        "id": "TvgDzC8KN8y5"
      }
    },
    {
      "cell_type": "code",
      "source": [
        "x = 5\n",
        "y = 10\n",
        "result = x < y\n",
        "print(\"Is x less than y?\", result)\n",
        "print(\"Type of result:\", type(result))\n"
      ],
      "metadata": {
        "colab": {
          "base_uri": "https://localhost:8080/"
        },
        "id": "LHPKKt47N91M",
        "outputId": "3090f20d-e550-45f5-83dd-1fee6277aaac"
      },
      "execution_count": null,
      "outputs": [
        {
          "output_type": "stream",
          "name": "stdout",
          "text": [
            "Is x less than y? True\n",
            "Type of result: <class 'bool'>\n"
          ]
        }
      ]
    },
    {
      "cell_type": "markdown",
      "source": [
        "### ✅ What is Type Conversion?\n",
        "\n",
        "Type conversion is the process of converting the **data type** of a value into another.\n",
        "\n",
        "🔹 Two types:\n",
        "- **Implicit Conversion**: Done automatically by Python\n",
        "- **Explicit Conversion**: Done manually by programmer using functions\n"
      ],
      "metadata": {
        "id": "vEV-ws4oOAJ-"
      }
    },
    {
      "cell_type": "code",
      "source": [
        "# Implicit: Python promotes int to float automatically\n",
        "a = 5        # int\n",
        "b = 2.5      # float\n",
        "result = a + b\n",
        "\n",
        "print(\"Result:\", result)\n",
        "print(\"Type of result:\", type(result))  # float\n"
      ],
      "metadata": {
        "colab": {
          "base_uri": "https://localhost:8080/"
        },
        "id": "84jIkck-OJrQ",
        "outputId": "5b8ef353-61b5-4899-c4af-64ec29516972"
      },
      "execution_count": null,
      "outputs": [
        {
          "output_type": "stream",
          "name": "stdout",
          "text": [
            "Result: 7.5\n",
            "Type of result: <class 'float'>\n"
          ]
        }
      ]
    },
    {
      "cell_type": "code",
      "source": [
        "# Convert str to int\n",
        "num_str = \"100\"\n",
        "num_int = int(num_str)\n",
        "\n",
        "print(\"String:\", num_str, \"| Type:\", type(num_str))\n",
        "print(\"Converted:\", num_int, \"| Type:\", type(num_int))\n"
      ],
      "metadata": {
        "colab": {
          "base_uri": "https://localhost:8080/"
        },
        "id": "8iAyhr0YOLxT",
        "outputId": "00988acc-ee83-4244-89e2-f51fd5fb9a19"
      },
      "execution_count": null,
      "outputs": [
        {
          "output_type": "stream",
          "name": "stdout",
          "text": [
            "String: 100 | Type: <class 'str'>\n",
            "Converted: 100 | Type: <class 'int'>\n"
          ]
        }
      ]
    },
    {
      "cell_type": "code",
      "source": [
        "# Convert float to int (truncates decimal part)\n",
        "f = 5.99\n",
        "i = int(f)\n",
        "\n",
        "print(\"Float:\", f)\n",
        "print(\"Converted to int:\", i)\n"
      ],
      "metadata": {
        "colab": {
          "base_uri": "https://localhost:8080/"
        },
        "id": "-nsmw8KfOOAs",
        "outputId": "ef2197c1-f0a1-483e-c7e8-e1f7224f2531"
      },
      "execution_count": null,
      "outputs": [
        {
          "output_type": "stream",
          "name": "stdout",
          "text": [
            "Float: 5.99\n",
            "Converted to int: 5\n"
          ]
        }
      ]
    },
    {
      "cell_type": "code",
      "source": [
        "# Convert int to string\n",
        "age = 25\n",
        "text = \"Age is \" + str(age)\n",
        "print(text)\n"
      ],
      "metadata": {
        "colab": {
          "base_uri": "https://localhost:8080/"
        },
        "id": "M_DrgDeSOX9j",
        "outputId": "f2869742-c1d3-4c6e-d980-576ce4ffcc3b"
      },
      "execution_count": null,
      "outputs": [
        {
          "output_type": "stream",
          "name": "stdout",
          "text": [
            "Age is 25\n"
          ]
        }
      ]
    },
    {
      "cell_type": "markdown",
      "source": [
        "🔸 Invalid Conversion (Example)"
      ],
      "metadata": {
        "id": "zma26Fp1OcXW"
      }
    },
    {
      "cell_type": "code",
      "source": [
        "# Will raise an error if the string is not numeric\n",
        "invalid_str = \"abc\"\n",
        "# int(invalid_str)   # Uncommenting this will raise ValueError\n",
        "print(invalid_str)\n"
      ],
      "metadata": {
        "id": "jOIOnBBAOc61",
        "colab": {
          "base_uri": "https://localhost:8080/"
        },
        "outputId": "3891767e-8f71-4865-cdb1-0bd12e1f2da5"
      },
      "execution_count": null,
      "outputs": [
        {
          "output_type": "stream",
          "name": "stdout",
          "text": [
            "abc\n"
          ]
        }
      ]
    },
    {
      "cell_type": "markdown",
      "source": [
        "### Summary\n",
        "\n",
        "\n",
        "| Concept          | Description                              | Function Used       |\n",
        "|------------------|------------------------------------------|---------------------|\n",
        "| int()            | Convert to integer                       | `int(\"10\")`         |\n",
        "| float()          | Convert to float                         | `float(\"3.14\")`     |\n",
        "| str()            | Convert to string                        | `str(25)`           |\n",
        "| bool()           | Convert to boolean                       | `bool(0)` → False   |\n",
        "| type()           | Returns type of variable                 | `type(x)`           |\n",
        "\n",
        "\n"
      ],
      "metadata": {
        "id": "Uzw8ZYqpOgXy"
      }
    }
  ]
}