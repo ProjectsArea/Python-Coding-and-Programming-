{
  "nbformat": 4,
  "nbformat_minor": 0,
  "metadata": {
    "colab": {
      "provenance": []
    },
    "kernelspec": {
      "name": "python3",
      "display_name": "Python 3"
    },
    "language_info": {
      "name": "python"
    }
  },
  "cells": [
    {
      "cell_type": "markdown",
      "source": [
        "### ✅ What are Operators?\n",
        "\n",
        "Operators are **symbols** that perform operations on variables and values.\n",
        "\n",
        "### 🔹 Types of Operators\n",
        "\n",
        "1. **Arithmetic Operators**: `+`, `-`, `*`, `/`, `//`, `%`, `**`\n",
        "2. **Comparison Operators**: `==`, `!=`, `>`, `<`, `>=`, `<=`\n",
        "3. **Logical Operators**: `and`, `or`, `not`\n",
        "4. **Assignment Operators**: `=`, `+=`, `-=`, `*=`, `/=`\n",
        "5. **Membership Operators**: `in`, `not in`\n",
        "6. **Identity Operators**: `is`, `is not`\n"
      ],
      "metadata": {
        "id": "whfOLiCZAueI"
      }
    },
    {
      "cell_type": "markdown",
      "source": [
        "### Artimetic Operators Example"
      ],
      "metadata": {
        "id": "Cud3btPvA3Cy"
      }
    },
    {
      "cell_type": "code",
      "source": [
        "a = 10\n",
        "b = 3\n",
        "\n",
        "print(\"Addition:\", a + b)\n",
        "print(\"Subtraction:\", a - b)\n",
        "print(\"Multiplication:\", a * b)\n",
        "print(\"Division:\", a / b)\n",
        "print(\"Floor Division:\", a // b)\n",
        "print(\"Modulus:\", a % b)\n",
        "print(\"Power:\", a ** b)"
      ],
      "metadata": {
        "colab": {
          "base_uri": "https://localhost:8080/"
        },
        "id": "psBvOIWwAx6a",
        "outputId": "c17f3afe-9c4a-43b0-9ef9-7dfec2fdf2a0"
      },
      "execution_count": null,
      "outputs": [
        {
          "output_type": "stream",
          "name": "stdout",
          "text": [
            "Addition: 13\n",
            "Subtraction: 7\n",
            "Multiplication: 30\n",
            "Division: 3.3333333333333335\n",
            "Floor Division: 3\n",
            "Modulus: 1\n",
            "Power: 1000\n"
          ]
        }
      ]
    },
    {
      "cell_type": "markdown",
      "source": [
        "### Comparision Operators Example"
      ],
      "metadata": {
        "id": "0ANh4pAtBA1m"
      }
    },
    {
      "cell_type": "code",
      "source": [
        "x = 5\n",
        "y = 8\n",
        "\n",
        "print(\"Equal:\", x == y)\n",
        "print(\"Not equal:\", x != y)\n",
        "print(\"Greater than:\", x > y)\n",
        "print(\"Less than or equal:\", x <= y)\n"
      ],
      "metadata": {
        "colab": {
          "base_uri": "https://localhost:8080/"
        },
        "id": "F7_XBdyXAzkC",
        "outputId": "452e73e6-15e8-4b40-be12-d5b3d4f73d92"
      },
      "execution_count": null,
      "outputs": [
        {
          "output_type": "stream",
          "name": "stdout",
          "text": [
            "Equal: False\n",
            "Not equal: True\n",
            "Greater than: False\n",
            "Less than or equal: True\n"
          ]
        }
      ]
    },
    {
      "cell_type": "markdown",
      "source": [
        "### Logical Operators Example"
      ],
      "metadata": {
        "id": "cE8p7UZQBPbj"
      }
    },
    {
      "cell_type": "code",
      "source": [
        "age = 20\n",
        "has_id = True\n",
        "\n",
        "print(\"Eligible:\", age >= 18 and has_id)\n",
        "print(\"Minor or no ID:\", age < 18 or not has_id)\n"
      ],
      "metadata": {
        "colab": {
          "base_uri": "https://localhost:8080/"
        },
        "id": "mgiVm_eABJhe",
        "outputId": "3e969e1c-37c0-4939-cfea-93ec06e81601"
      },
      "execution_count": null,
      "outputs": [
        {
          "output_type": "stream",
          "name": "stdout",
          "text": [
            "Eligible: True\n",
            "Minor or no ID: False\n"
          ]
        }
      ]
    },
    {
      "cell_type": "markdown",
      "source": [
        "### Membership and Identity Operators"
      ],
      "metadata": {
        "id": "wmTmVgaoBX4z"
      }
    },
    {
      "cell_type": "code",
      "source": [
        "fruits = [\"apple\", \"banana\", \"cherry\"]\n",
        "print(\"Is 'apple' in fruits?\", \"apple\" in fruits)\n",
        "print(\"Is 'grape' not in fruits?\", \"grape\" not in fruits)\n",
        "\n",
        "x = [1, 2, 3]\n",
        "y = x\n",
        "z = [1, 2, 3]\n",
        "\n",
        "print(\"x is y:\", x is y)\n",
        "print(\"x is z:\", x is z)\n"
      ],
      "metadata": {
        "colab": {
          "base_uri": "https://localhost:8080/"
        },
        "id": "SuaPhnWJBUSc",
        "outputId": "338d0b32-3fe8-4ceb-b069-4bc4915a1a45"
      },
      "execution_count": null,
      "outputs": [
        {
          "output_type": "stream",
          "name": "stdout",
          "text": [
            "Is 'apple' in fruits? True\n",
            "Is 'grape' not in fruits? True\n",
            "x is y: True\n",
            "x is z: False\n"
          ]
        }
      ]
    },
    {
      "cell_type": "markdown",
      "source": [
        "### ✅ Input and Output Functions\n",
        "\n",
        "- **input()**: Used to take user input (always returns string)\n",
        "- **print()**: Used to display output\n"
      ],
      "metadata": {
        "id": "hvNKJDU8BdjS"
      }
    },
    {
      "cell_type": "code",
      "source": [
        "# User input is always string\n",
        "name = input(\"Enter your name: \")\n",
        "age = input(\"Enter your age: \")\n",
        "\n",
        "print(\"Name:\", name)\n",
        "print(\"Age:\", age)\n",
        "print(\"Type of age:\", type(age))\n"
      ],
      "metadata": {
        "colab": {
          "base_uri": "https://localhost:8080/"
        },
        "id": "eO3_BPDYBaXo",
        "outputId": "c4e77d8c-e9fd-459b-e6b2-6e80e73337c2"
      },
      "execution_count": null,
      "outputs": [
        {
          "output_type": "stream",
          "name": "stdout",
          "text": [
            "Enter your name: aarthi\n",
            "Enter your age: 23\n",
            "Name: aarthi\n",
            "Age: 23\n",
            "Type of age: <class 'str'>\n"
          ]
        }
      ]
    },
    {
      "cell_type": "markdown",
      "source": [
        "### Converting input type\n"
      ],
      "metadata": {
        "id": "LB7pO4aABosi"
      }
    },
    {
      "cell_type": "code",
      "source": [
        "# Convert string input to int\n",
        "num1 = int(input(\"Enter first number: \"))\n",
        "num2 = int(input(\"Enter second number: \"))\n",
        "\n",
        "sum = num1 + num2\n",
        "print(\"Sum:\", sum)\n"
      ],
      "metadata": {
        "colab": {
          "base_uri": "https://localhost:8080/"
        },
        "id": "ElCOU45RBiD2",
        "outputId": "badb61dd-4553-435c-e1c0-7903cd4d18ed"
      },
      "execution_count": null,
      "outputs": [
        {
          "output_type": "stream",
          "name": "stdout",
          "text": [
            "Enter first number: 1\n",
            "Enter second number: 2\n",
            "Sum: 3\n"
          ]
        }
      ]
    },
    {
      "cell_type": "markdown",
      "source": [
        "### Printing and Formatting"
      ],
      "metadata": {
        "id": "tgQEMvrjB2y0"
      }
    },
    {
      "cell_type": "code",
      "source": [
        "product = \"Laptop\"\n",
        "price = 55000\n",
        "\n",
        "print(\"Product:\", product, \"| Price:\", price)\n",
        "print(f\"The {product} costs {price} INR\")  # f-string formatting\n"
      ],
      "metadata": {
        "colab": {
          "base_uri": "https://localhost:8080/"
        },
        "id": "usW9SgM0Br2j",
        "outputId": "01be5cf1-caaf-44f6-83ee-570b61b779a6"
      },
      "execution_count": null,
      "outputs": [
        {
          "output_type": "stream",
          "name": "stdout",
          "text": [
            "Product: Laptop | Price: 55000\n",
            "The Laptop costs 55000 INR\n"
          ]
        }
      ]
    },
    {
      "cell_type": "code",
      "source": [],
      "metadata": {
        "id": "R6W6MTigB7gH"
      },
      "execution_count": null,
      "outputs": []
    }
  ]
}