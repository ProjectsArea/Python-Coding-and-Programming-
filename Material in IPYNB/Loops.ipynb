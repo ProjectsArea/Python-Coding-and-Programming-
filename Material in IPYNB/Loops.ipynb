{
  "nbformat": 4,
  "nbformat_minor": 0,
  "metadata": {
    "colab": {
      "provenance": []
    },
    "kernelspec": {
      "name": "python3",
      "display_name": "Python 3"
    },
    "language_info": {
      "name": "python"
    }
  },
  "cells": [
    {
      "cell_type": "markdown",
      "source": [
        "### ✅ What is a Loop?\n",
        "\n",
        "Loops are used to **repeat a block of code** multiple times until a certain condition is met.\n",
        "\n",
        "### 🔹 Types of Loops in Python:\n",
        "\n",
        "1. **for loop**: Iterates over a sequence (list, tuple, string, range, etc.)\n",
        "2. **while loop**: Repeats as long as a condition is `True`\n"
      ],
      "metadata": {
        "id": "-O5yudUDFTSY"
      }
    },
    {
      "cell_type": "markdown",
      "source": [
        "### ✅ `for` Loop\n",
        "\n",
        "Used to iterate over a sequence directly.\n"
      ],
      "metadata": {
        "id": "1jzwzHJUFXSX"
      }
    },
    {
      "cell_type": "code",
      "source": [
        "fruits = [\"apple\", \"banana\", \"cherry\"]\n",
        "\n",
        "for fruit in fruits:\n",
        "    print(fruit)\n"
      ],
      "metadata": {
        "colab": {
          "base_uri": "https://localhost:8080/"
        },
        "id": "hL6sz4gzFVYO",
        "outputId": "cdc2a8c3-17d4-4e75-b874-ef7aa4f5492c"
      },
      "execution_count": null,
      "outputs": [
        {
          "output_type": "stream",
          "name": "stdout",
          "text": [
            "apple\n",
            "banana\n",
            "cherry\n"
          ]
        }
      ]
    },
    {
      "cell_type": "markdown",
      "source": [
        "### Iterating over string"
      ],
      "metadata": {
        "id": "QGcsdePOFedd"
      }
    },
    {
      "cell_type": "code",
      "source": [
        "for char in \"Python\":\n",
        "    print(char)\n"
      ],
      "metadata": {
        "colab": {
          "base_uri": "https://localhost:8080/"
        },
        "id": "hgaKPIRAFZpi",
        "outputId": "56a4569e-cf52-4aa0-99c5-d86a6bbb9ab6"
      },
      "execution_count": null,
      "outputs": [
        {
          "output_type": "stream",
          "name": "stdout",
          "text": [
            "P\n",
            "y\n",
            "t\n",
            "h\n",
            "o\n",
            "n\n"
          ]
        }
      ]
    },
    {
      "cell_type": "markdown",
      "source": [
        "### using range()"
      ],
      "metadata": {
        "id": "LAXvQDoIFiNk"
      }
    },
    {
      "cell_type": "code",
      "source": [
        "# range(start, stop, step)\n",
        "for i in range(1, 6):\n",
        "    print(i)\n"
      ],
      "metadata": {
        "colab": {
          "base_uri": "https://localhost:8080/"
        },
        "id": "mQnkw0J4Fhb3",
        "outputId": "bdf26638-ab7f-47ca-aab0-3c2442494937"
      },
      "execution_count": null,
      "outputs": [
        {
          "output_type": "stream",
          "name": "stdout",
          "text": [
            "1\n",
            "2\n",
            "3\n",
            "4\n",
            "5\n"
          ]
        }
      ]
    },
    {
      "cell_type": "markdown",
      "source": [
        "### With step size"
      ],
      "metadata": {
        "id": "_XIA5EGkGyvR"
      }
    },
    {
      "cell_type": "code",
      "source": [
        "for i in range(0, 10, 2):\n",
        "    print(i)\n"
      ],
      "metadata": {
        "colab": {
          "base_uri": "https://localhost:8080/"
        },
        "id": "McMdR_x_GvWI",
        "outputId": "712634f3-9f68-49ef-d112-eca1b0b7e54d"
      },
      "execution_count": null,
      "outputs": [
        {
          "output_type": "stream",
          "name": "stdout",
          "text": [
            "0\n",
            "2\n",
            "4\n",
            "6\n",
            "8\n"
          ]
        }
      ]
    },
    {
      "cell_type": "markdown",
      "source": [
        "### ✅ `while` Loop\n",
        "\n",
        "Executes a block repeatedly **while the condition is True**.\n"
      ],
      "metadata": {
        "id": "T1Y4bd9oKjII"
      }
    },
    {
      "cell_type": "code",
      "source": [
        "count = 1\n",
        "while count <= 5:\n",
        "    print(\"Count:\", count)\n",
        "    count += 1\n"
      ],
      "metadata": {
        "colab": {
          "base_uri": "https://localhost:8080/"
        },
        "id": "kgmlqCREKYHg",
        "outputId": "fbbb909a-5831-435a-fdf0-a30a2ea437d4"
      },
      "execution_count": null,
      "outputs": [
        {
          "output_type": "stream",
          "name": "stdout",
          "text": [
            "Count: 1\n",
            "Count: 2\n",
            "Count: 3\n",
            "Count: 4\n",
            "Count: 5\n"
          ]
        }
      ]
    },
    {
      "cell_type": "markdown",
      "source": [
        "### Example 2: Sum of numbers"
      ],
      "metadata": {
        "id": "AyGx3rNbKuwG"
      }
    },
    {
      "cell_type": "code",
      "source": [
        "total = 0\n",
        "num = 1\n",
        "\n",
        "while num <= 5:\n",
        "    total += num\n",
        "    num += 1\n",
        "\n",
        "print(\"Total sum:\", total)\n"
      ],
      "metadata": {
        "colab": {
          "base_uri": "https://localhost:8080/"
        },
        "id": "CdqZ18MXKlz0",
        "outputId": "14f22e18-9870-466b-d9af-bf7fdfb444fd"
      },
      "execution_count": null,
      "outputs": [
        {
          "output_type": "stream",
          "name": "stdout",
          "text": [
            "Total sum: 15\n"
          ]
        }
      ]
    },
    {
      "cell_type": "markdown",
      "source": [
        "### ✅ Loop Control Statements:\n",
        "\n",
        "1. **break**: Exit the loop immediately\n",
        "2. **continue**: Skip the current iteration and continue\n",
        "3. **pass**: Placeholder statement, does nothing\n"
      ],
      "metadata": {
        "id": "krU43uauK6og"
      }
    },
    {
      "cell_type": "markdown",
      "source": [
        "###Using breaks"
      ],
      "metadata": {
        "id": "tK3V0NfWK8-w"
      }
    },
    {
      "cell_type": "code",
      "source": [
        "for i in range(1, 10):\n",
        "    if i == 5:\n",
        "        break\n",
        "    print(i)\n"
      ],
      "metadata": {
        "colab": {
          "base_uri": "https://localhost:8080/"
        },
        "id": "ujh2WUiCK3SZ",
        "outputId": "ea060712-56b4-4d35-e68d-a0b1633d14a5"
      },
      "execution_count": null,
      "outputs": [
        {
          "output_type": "stream",
          "name": "stdout",
          "text": [
            "1\n",
            "2\n",
            "3\n",
            "4\n"
          ]
        }
      ]
    },
    {
      "cell_type": "markdown",
      "source": [
        "### Using continue"
      ],
      "metadata": {
        "id": "2IlfGiZ5LMuy"
      }
    },
    {
      "cell_type": "code",
      "source": [
        "for i in range(1, 6):\n",
        "    if i == 3:\n",
        "        continue\n",
        "    print(i)\n"
      ],
      "metadata": {
        "colab": {
          "base_uri": "https://localhost:8080/"
        },
        "id": "9UXNQEEgLLDJ",
        "outputId": "c3616769-e799-4326-d49c-f22ee18adc25"
      },
      "execution_count": null,
      "outputs": [
        {
          "output_type": "stream",
          "name": "stdout",
          "text": [
            "1\n",
            "2\n",
            "4\n",
            "5\n"
          ]
        }
      ]
    },
    {
      "cell_type": "markdown",
      "source": [
        "### Using **pass**"
      ],
      "metadata": {
        "id": "am7uGvFZLQ6L"
      }
    },
    {
      "cell_type": "code",
      "source": [
        "for i in range(1, 4):\n",
        "    if i == 2:\n",
        "        pass  # Placeholder: we can add code later\n",
        "    print(\"Iteration:\", i)\n"
      ],
      "metadata": {
        "colab": {
          "base_uri": "https://localhost:8080/"
        },
        "id": "ZtOy3rtWLOv4",
        "outputId": "1cce5e5f-30dc-429f-b089-ebfe7c1025a8"
      },
      "execution_count": null,
      "outputs": [
        {
          "output_type": "stream",
          "name": "stdout",
          "text": [
            "Iteration: 1\n",
            "Iteration: 2\n",
            "Iteration: 3\n"
          ]
        }
      ]
    },
    {
      "cell_type": "markdown",
      "source": [
        "### ✅ Nested Loops:\n",
        "\n",
        "A loop inside another loop.\n"
      ],
      "metadata": {
        "id": "6Fgq9NwnLj4w"
      }
    },
    {
      "cell_type": "code",
      "source": [
        "for i in range(1, 4):\n",
        "    for j in range(1, 3):\n",
        "        print(f\"i={i}, j={j}\")\n"
      ],
      "metadata": {
        "colab": {
          "base_uri": "https://localhost:8080/"
        },
        "id": "33o-kGqxLbq2",
        "outputId": "af54f6a4-befd-4076-ee92-951a5091fa69"
      },
      "execution_count": null,
      "outputs": [
        {
          "output_type": "stream",
          "name": "stdout",
          "text": [
            "i=1, j=1\n",
            "i=1, j=2\n",
            "i=2, j=1\n",
            "i=2, j=2\n",
            "i=3, j=1\n",
            "i=3, j=2\n"
          ]
        }
      ]
    },
    {
      "cell_type": "markdown",
      "source": [
        "### Summary"
      ],
      "metadata": {
        "id": "_yXWzIiJMUTV"
      }
    },
    {
      "cell_type": "markdown",
      "source": [
        "| Loop Type   | Usage                                  |\n",
        "|-------------|----------------------------------------|\n",
        "| for         | Iterates over a sequence               |\n",
        "| while       | Repeats while condition is True         |\n",
        "| break       | Exits the loop                         |\n",
        "| continue    | Skips current iteration                |\n",
        "| pass        | Placeholder, does nothing              |\n"
      ],
      "metadata": {
        "id": "HRkDJr5dLuHq"
      }
    }
  ]
}