{
  "nbformat": 4,
  "nbformat_minor": 0,
  "metadata": {
    "colab": {
      "provenance": []
    },
    "kernelspec": {
      "name": "python3",
      "display_name": "Python 3"
    },
    "language_info": {
      "name": "python"
    }
  },
  "cells": [
    {
      "cell_type": "markdown",
      "source": [
        "### What is Python?\n",
        "\n",
        "Python is a **high-level**, **interpreted**, **general-purpose programming language**, created by **Guido van Rossum** and released in **1991**.\n",
        "\n",
        "🔹 Features:\n",
        "- High readability and clean syntax\n",
        "- Dynamically typed\n",
        "- Garbage-collected\n",
        "- Supports OOP, functional, and procedural paradigms\n",
        "- Vast standard and third-party libraries\n"
      ],
      "metadata": {
        "id": "i1ns0HPcJS5K"
      }
    },
    {
      "cell_type": "markdown",
      "source": [
        "### Why Python?\n",
        "\n",
        "Python is widely adopted due to:\n",
        "\n",
        "🔸 **Simplicity**: Easy to write, read, and learn  \n",
        "🔸 **Versatility**: From web development to AI and automation  \n",
        "🔸 **Community Support**: Huge ecosystem and open source  \n",
        "🔸 **Libraries**:\n",
        "- Data Science: `pandas`, `numpy`, `matplotlib`\n",
        "- ML/AI: `scikit-learn`, `tensorflow`, `keras`, `pytorch`\n",
        "- Web: `Django`, `Flask`\n",
        "- Automation: `selenium`, `pyautogui`\n",
        "\n",
        "🔸 **Productivity**: Rapid prototyping and fewer lines of code\n"
      ],
      "metadata": {
        "id": "TxiyfdH1K7-i"
      }
    },
    {
      "cell_type": "markdown",
      "source": [
        "### When to Use Python?\n",
        "\n",
        "Python is ideal when:\n",
        "\n",
        "- Doing **data analysis, ML, AI, or automation**\n",
        "- Developing **web applications**\n",
        "- Building **scripts or utilities**\n",
        "- Teaching **programming fundamentals**\n",
        "\n",
        "Avoid using Python when:\n",
        "- You need **high-speed computation** without external tools\n",
        "- Developing **native mobile apps** (better with Kotlin/Swift)\n"
      ],
      "metadata": {
        "id": "QUX9ky24LGUJ"
      }
    },
    {
      "cell_type": "markdown",
      "source": [
        "### Installing Python (Skip for Colab users)\n",
        "\n",
        "Since Google Colab provides a pre-installed Python environment, no installation is needed.\n",
        "\n",
        "For local use:\n",
        "\n",
        "1. **Install Python**: [https://www.python.org](https://www.python.org)\n",
        "2. **Install VS Code**: [https://code.visualstudio.com](https://code.visualstudio.com)\n",
        "3. **Install Jupyter**:\n",
        "```bash\n",
        "pip install notebook\n"
      ],
      "metadata": {
        "id": "01UepDz7LKJC"
      }
    },
    {
      "cell_type": "code",
      "source": [
        "### First Program\n",
        "print(\"Hello, World!\")"
      ],
      "metadata": {
        "colab": {
          "base_uri": "https://localhost:8080/"
        },
        "id": "OTw1U2SJLf_M",
        "outputId": "0fc48c2f-681c-4607-eb32-56da9f9c389a"
      },
      "execution_count": null,
      "outputs": [
        {
          "output_type": "stream",
          "name": "stdout",
          "text": [
            "Hello, World!\n"
          ]
        }
      ]
    }
  ]
}